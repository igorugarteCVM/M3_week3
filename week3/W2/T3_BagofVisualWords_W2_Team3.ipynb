{
 "cells": [
  {
   "cell_type": "code",
   "execution_count": 50,
   "metadata": {},
   "outputs": [],
   "source": [
    "import cv2\n",
    "import numpy as np\n",
    "import pickle\n",
    "from sklearn.cluster import MiniBatchKMeans\n",
    "from sklearn.neighbors import KNeighborsClassifier\n",
    "from sklearn.decomposition import PCA\n",
    "from sklearn.discriminant_analysis import LinearDiscriminantAnalysis\n",
    "from sklearn.preprocessing import StandardScaler\n",
    "import time\n",
    "from sklearn.model_selection import StratifiedKFold, GridSearchCV, cross_validate\n",
    "from sklearn.svm import SVC\n",
    "import math\n",
    "import matplotlib.pyplot as plt\n",
    "import pandas as pd\n",
    "from sklearn.metrics import classification_report, plot_roc_curve"
   ]
  },
  {
   "cell_type": "markdown",
   "metadata": {},
   "source": [
    "Let us first read the train and test files"
   ]
  },
  {
   "cell_type": "code",
   "execution_count": 3,
   "metadata": {},
   "outputs": [],
   "source": [
    "train_images_filenames = pickle.load(open('train_images_filenames.dat','rb'))\n",
    "test_images_filenames = pickle.load(open('test_images_filenames.dat','rb'))\n",
    "train_images_filenames = ['..' + n[15:] for n in train_images_filenames]\n",
    "test_images_filenames  = ['..' + n[15:] for n in test_images_filenames]\n",
    "train_labels = pickle.load(open('train_labels.dat','rb'))\n",
    "test_labels = pickle.load(open('test_labels.dat','rb'))"
   ]
  },
  {
   "cell_type": "code",
   "execution_count": 4,
   "metadata": {},
   "outputs": [
    {
     "data": {
      "text/plain": [
       "'../MIT_split/train/Opencountry/fie26.jpg'"
      ]
     },
     "execution_count": 4,
     "metadata": {},
     "output_type": "execute_result"
    }
   ],
   "source": [
    "train_images_filenames[12]"
   ]
  },
  {
   "cell_type": "markdown",
   "metadata": {},
   "source": [
    "We create a SIFT object detector and descriptor"
   ]
  },
  {
   "cell_type": "code",
   "execution_count": 5,
   "metadata": {},
   "outputs": [],
   "source": [
    "Detector = cv2.KAZE_create(threshold=0.0001)"
   ]
  },
  {
   "cell_type": "markdown",
   "metadata": {},
   "source": [
    "We compute the SIFT descriptors for all the train images and subsequently build a numpy array with all the descriptors stacked together"
   ]
  },
  {
   "cell_type": "code",
   "execution_count": 6,
   "metadata": {},
   "outputs": [],
   "source": [
    "Train_descriptors = []\n",
    "Train_label_per_descriptor = []\n",
    "\n",
    "for filename,labels in zip(train_images_filenames,train_labels):\n",
    "    ima=cv2.imread(filename)\n",
    "    gray=cv2.cvtColor(ima,cv2.COLOR_BGR2GRAY)\n",
    "    kpt,des=Detector.detectAndCompute(gray,None)\n",
    "    Train_descriptors.append(des)\n",
    "    Train_label_per_descriptor.append(labels)\n",
    "\n"
   ]
  },
  {
   "cell_type": "markdown",
   "metadata": {},
   "source": [
    "We now compute a k-means clustering on the descriptor space"
   ]
  },
  {
   "cell_type": "code",
   "execution_count": 2,
   "metadata": {},
   "outputs": [],
   "source": [
    "k = 128\n",
    "def codebook_generator(k, descriptors):\n",
    "    D=np.vstack(descriptors)\n",
    "    codebook = MiniBatchKMeans(n_clusters=k, verbose=False, batch_size=k * 20,compute_labels=False,reassignment_ratio=10**-4,random_state=42)\n",
    "    codebook.fit(D)\n",
    "    return codebook"
   ]
  },
  {
   "cell_type": "code",
   "execution_count": null,
   "metadata": {},
   "outputs": [],
   "source": [
    "codebook = codebook_generator(k, Train_descriptors)"
   ]
  },
  {
   "cell_type": "markdown",
   "metadata": {},
   "source": [
    "And, for each train image, we project each keypoint descriptor to its closest visual word. We represent each of the images with the frequency of each visual word."
   ]
  },
  {
   "cell_type": "code",
   "execution_count": 3,
   "metadata": {},
   "outputs": [],
   "source": [
    "def visual_words_generator(codebook, descriptors):\n",
    "    n = len(descriptors)\n",
    "    k = codebook.n_clusters\n",
    "    visual_words=np.zeros((n,k),dtype=np.float32)\n",
    "    for i in range(n):\n",
    "        words=codebook.predict(descriptors[i])\n",
    "        visual_words[i,:]=np.bincount(words,minlength=k)\n",
    "    return visual_words"
   ]
  },
  {
   "cell_type": "code",
   "execution_count": null,
   "metadata": {},
   "outputs": [],
   "source": [
    "visual_words = visual_words_generator(codebook, Train_descriptors)"
   ]
  },
  {
   "cell_type": "markdown",
   "metadata": {},
   "source": [
    "We build a k-nn classifier and train it with the train descriptors"
   ]
  },
  {
   "cell_type": "code",
   "execution_count": 53,
   "metadata": {},
   "outputs": [],
   "source": [
    "def build_knn(visual_words, labels, n_neighbors, metric = 'euclidean'):\n",
    "    knn = KNeighborsClassifier(n_neighbors=n_neighbors,n_jobs=-1,metric=metric)\n",
    "    knn.fit(visual_words, labels)\n",
    "    return knn "
   ]
  },
  {
   "cell_type": "code",
   "execution_count": null,
   "metadata": {},
   "outputs": [],
   "source": [
    "knn = build_knn(visual_words,train_labels,5)"
   ]
  },
  {
   "cell_type": "markdown",
   "metadata": {},
   "source": [
    "We end up computing the test descriptors and compute the accuracy of the model"
   ]
  },
  {
   "cell_type": "code",
   "execution_count": 10,
   "metadata": {},
   "outputs": [],
   "source": [
    "visual_words_test=np.zeros((len(test_images_filenames),k),dtype=np.float32)\n",
    "for i in range(len(test_images_filenames)):\n",
    "    filename=test_images_filenames[i]\n",
    "    ima=cv2.imread(filename)\n",
    "    gray=cv2.cvtColor(ima,cv2.COLOR_BGR2GRAY)\n",
    "    kpt,des=Detector.detectAndCompute(gray,None)\n",
    "    words=codebook.predict(des)\n",
    "    visual_words_test[i,:]=np.bincount(words,minlength=k)"
   ]
  },
  {
   "cell_type": "code",
   "execution_count": 7,
   "metadata": {},
   "outputs": [],
   "source": [
    "def accuracy(knn, visual_words, labels):\n",
    "    accuracy = 100*knn.score(visual_words, labels)\n",
    "    return accuracy"
   ]
  },
  {
   "cell_type": "code",
   "execution_count": null,
   "metadata": {},
   "outputs": [],
   "source": [
    "accuracy = accuracy(knn,visual_words_test, test_labels)\n",
    "print(accuracy)"
   ]
  },
  {
   "cell_type": "markdown",
   "metadata": {},
   "source": [
    "Dimensionality reduction, with PCA and LDA"
   ]
  },
  {
   "cell_type": "code",
   "execution_count": 12,
   "metadata": {},
   "outputs": [
    {
     "name": "stdout",
     "output_type": "stream",
     "text": [
      "57.74473358116481\n"
     ]
    }
   ],
   "source": [
    "pca = PCA(n_components=64)\n",
    "VWpca = pca.fit_transform(visual_words)\n",
    "knnpca = KNeighborsClassifier(n_neighbors=5,n_jobs=-1,metric='euclidean')\n",
    "knnpca.fit(VWpca, train_labels) \n",
    "vwtestpca = pca.transform(visual_words_test)\n",
    "accuracy = 100*knnpca.score(vwtestpca, test_labels)\n",
    "print(accuracy)"
   ]
  },
  {
   "cell_type": "code",
   "execution_count": 13,
   "metadata": {},
   "outputs": [
    {
     "name": "stdout",
     "output_type": "stream",
     "text": [
      "64.93184634448575\n"
     ]
    }
   ],
   "source": [
    "lda = LinearDiscriminantAnalysis(n_components=7)\n",
    "VWlda = lda.fit_transform(visual_words,train_labels)\n",
    "knnlda = KNeighborsClassifier(n_neighbors=5,n_jobs=-1,metric='euclidean')\n",
    "knnlda.fit(VWlda, train_labels) \n",
    "vwtestlda = lda.transform(visual_words_test)\n",
    "accuracy = 100*knnlda.score(vwtestlda, test_labels)\n",
    "print(accuracy)"
   ]
  },
  {
   "cell_type": "markdown",
   "metadata": {},
   "source": [
    "### Week 2 Tasks"
   ]
  },
  {
   "cell_type": "markdown",
   "metadata": {},
   "source": [
    "We compute and save all the data in train_images and test_images arrays. Doing this step we will avoid to read all the data with every task we have to do."
   ]
  },
  {
   "cell_type": "code",
   "execution_count": 4,
   "metadata": {},
   "outputs": [],
   "source": [
    "train_images_filenames = pickle.load(open('train_images_filenames.dat','rb'))\n",
    "test_images_filenames = pickle.load(open('test_images_filenames.dat','rb'))\n",
    "train_images_filenames = ['..' + n[15:] for n in train_images_filenames]\n",
    "test_images_filenames  = ['..' + n[15:] for n in test_images_filenames]\n",
    "train_labels = pickle.load(open('train_labels.dat','rb'))\n",
    "test_labels = pickle.load(open('test_labels.dat','rb'))"
   ]
  },
  {
   "cell_type": "code",
   "execution_count": 5,
   "metadata": {},
   "outputs": [
    {
     "name": "stdout",
     "output_type": "stream",
     "text": [
      "Train images: (1881, 256, 256)\n",
      " Test images: (807, 256, 256)\n"
     ]
    }
   ],
   "source": [
    "train_images = []\n",
    "test_images = []\n",
    "\n",
    "for filename in train_images_filenames:\n",
    "    ima=cv2.imread(filename)\n",
    "    gray=cv2.cvtColor(ima,cv2.COLOR_BGR2GRAY)\n",
    "    train_images.append(gray)\n",
    "train_images=np.stack(train_images)\n",
    "\n",
    "for filename in test_images_filenames:\n",
    "    ima=cv2.imread(filename)\n",
    "    gray=cv2.cvtColor(ima,cv2.COLOR_BGR2GRAY)\n",
    "    test_images.append(gray)\n",
    "test_images = np.stack(test_images)\n",
    "\n",
    "print(f\"Train images: {train_images.shape}\\n Test images: {test_images.shape}\")"
   ]
  },
  {
   "cell_type": "markdown",
   "metadata": {},
   "source": [
    "### 1. Dense SIFT (with tiny steps and different scales)"
   ]
  },
  {
   "cell_type": "markdown",
   "metadata": {},
   "source": [
    "Implementation of the dense SIFT with different step sizes and different scales."
   ]
  },
  {
   "cell_type": "code",
   "execution_count": 63,
   "metadata": {},
   "outputs": [
    {
     "name": "stdout",
     "output_type": "stream",
     "text": [
      "Accuracy of the train dataset using step size of 50: 76.66\n",
      "Accuracy of the test dataset using step size of 50: 66.91    Time: 151.61 seconds\n",
      "Accuracy of the train dataset using step size of 40: 78.36\n",
      "Accuracy of the test dataset using step size of 40: 70.26    Time: 156.96 seconds\n",
      "Accuracy of the train dataset using step size of 30: 81.5\n",
      "Accuracy of the test dataset using step size of 30: 72.24    Time: 161.92 seconds\n",
      "Accuracy of the train dataset using step size of 20: 82.62\n",
      "Accuracy of the test dataset using step size of 20: 77.94    Time: 160.49 seconds\n",
      "Accuracy of the train dataset using step size of 10: 83.89\n",
      "Accuracy of the test dataset using step size of 10: 75.96    Time: 147.33 seconds\n"
     ]
    }
   ],
   "source": [
    "def denseSIFT(step_size, images):\n",
    "    Detector = cv2.SIFT_create()\n",
    "    descriptors = []\n",
    "\n",
    "    for image in images:\n",
    "        kp = [cv2.KeyPoint(x, y, step_size) for y in range(0, image.shape[0], step_size) \n",
    "                                            for x in range(0, image.shape[1], step_size)]\n",
    "        kpt,desc = Detector.compute(image, kp)\n",
    "        #dense_feat_array = list(dense_feat)\n",
    "        #desc=dense_feat_array.flatten()\n",
    "        #print(desc)\n",
    "        descriptors.append(desc)\n",
    "    \n",
    "    return descriptors\n",
    "\n",
    "accuracies = {}\n",
    "#step_size = 50\n",
    "for step_size in range(50,0,-10):\n",
    "    start_time = time.time()\n",
    "    descriptors = denseSIFT(step_size, train_images)\n",
    "    codebook = codebook_generator(128, descriptors)\n",
    "    visual_words = visual_words_generator(codebook, descriptors)\n",
    "    knn = build_knn(visual_words, train_labels, 5)\n",
    "    train_accuracy = round(100*knn.score(visual_words, train_labels), 2)\n",
    "\n",
    "    test_descriptors = denseSIFT(step_size, test_images)\n",
    "    test_visual_words = visual_words_generator(codebook, test_descriptors)\n",
    "    test_accuracy = round(100*knn.score(test_visual_words, test_labels), 2)\n",
    "    delta_time = round(time.time() - start_time, 2)\n",
    "    accuracies[step_size] = [train_accuracy, test_accuracy, delta_time]\n",
    "    print('Accuracy of the train dataset using step size of {0}: {1}'.format(step_size, train_accuracy))\n",
    "    print('Accuracy of the test dataset using step size of {0}: {1}    Time: {2} seconds'.format(step_size, test_accuracy, delta_time))"
   ]
  },
  {
   "cell_type": "markdown",
   "metadata": {},
   "source": [
    "Testing the dense SIFT with step size until 10 up to 50, we can see the accuracy reaches its maximum with the step size 20 (in the case of the evaluation of the test dataset), and then starts to decrease. In the case of the training dataset evaluation, its maximum in this case is reached with the step size of 10.\n",
    "In the next code we evaluate the accuracy using some step sizes bellow 10, just to confirm that the accuracy will not get higher."
   ]
  },
  {
   "cell_type": "code",
   "execution_count": 66,
   "metadata": {},
   "outputs": [
    {
     "name": "stdout",
     "output_type": "stream",
     "text": [
      "Accuracy of the train dataset using step size of 9: 84.1 %\n",
      "Accuracy of the test dataset using step size of 9: 73.48 %    Time: 191.49 seconds\n",
      "Accuracy of the train dataset using step size of 6: 82.51 %\n",
      "Accuracy of the test dataset using step size of 6: 73.23 %    Time: 207.97 seconds\n",
      "Accuracy of the train dataset using step size of 3: 81.45 %\n",
      "Accuracy of the test dataset using step size of 3: 70.14 %    Time: 456.75 seconds\n"
     ]
    }
   ],
   "source": [
    "\n",
    "for step_size in range(9,0,-3):\n",
    "    start_time = time.time()\n",
    "    descriptors = denseSIFT(step_size, train_images)\n",
    "    codebook = codebook_generator(128, descriptors)\n",
    "    visual_words = visual_words_generator(codebook, descriptors)\n",
    "    knn = build_knn(visual_words, train_labels, 5)\n",
    "    train_accuracy = round(100*knn.score(visual_words, train_labels), 2)\n",
    "\n",
    "    test_descriptors = denseSIFT(step_size, test_images)\n",
    "    test_visual_words = visual_words_generator(codebook, test_descriptors)\n",
    "    test_accuracy = round(100*knn.score(test_visual_words, test_labels),2)\n",
    "    delta_time = round(time.time() - start_time,2)\n",
    "    accuracies[step_size] = [train_accuracy, test_accuracy, delta_time]\n",
    "\n",
    "    print('Accuracy of the train dataset using step size of {0}: {1} %'.format(step_size, train_accuracy))\n",
    "    print('Accuracy of the test dataset using step size of {0}: {1} %    Time: {2} seconds'.format(step_size, test_accuracy, delta_time))"
   ]
  },
  {
   "cell_type": "markdown",
   "metadata": {},
   "source": [
    "As we can see, there is no improvement for the test dataset by reducing the step size bellow 10, and also when we try to train the algorithm using a step size of 1, we have an error of lack of memory in a function from opencv library. But in the case of the evaluation of the training dataset, we can see that the accuracy improves for the step size of 9, and then it decreases for the step size 6 and 3.\n",
    "Finally, we will test with tiny step size variations between 10 an 20, where it seems that probably we will have the best accuracy results."
   ]
  },
  {
   "cell_type": "code",
   "execution_count": 67,
   "metadata": {},
   "outputs": [
    {
     "name": "stdout",
     "output_type": "stream",
     "text": [
      "Accuracy of the train dataset using step size of 12: 84.21 %\n",
      "Accuracy of the test dataset using step size of 12: 76.83 %    Time: 139.35 seconds\n",
      "Accuracy of the train dataset using step size of 14: 83.79 %\n",
      "Accuracy of the test dataset using step size of 14: 76.7 %    Time: 140.51 seconds\n",
      "Accuracy of the train dataset using step size of 16: 82.99 %\n",
      "Accuracy of the test dataset using step size of 16: 75.84 %    Time: 132.05 seconds\n",
      "Accuracy of the train dataset using step size of 18: 84.05 %\n",
      "Accuracy of the test dataset using step size of 18: 74.47 %    Time: 134.52 seconds\n"
     ]
    }
   ],
   "source": [
    "for step_size in range(12,20,2):\n",
    "    start_time = time.time()\n",
    "    descriptors = denseSIFT(step_size, train_images)\n",
    "    codebook = codebook_generator(128, descriptors)\n",
    "    visual_words = visual_words_generator(codebook, descriptors)\n",
    "    knn = build_knn(visual_words, train_labels, 5)\n",
    "    train_accuracy = round(100*knn.score(visual_words, train_labels), 2)\n",
    "\n",
    "    test_descriptors = denseSIFT(step_size, test_images)\n",
    "    test_visual_words = visual_words_generator(codebook, test_descriptors)\n",
    "    test_accuracy = round(100*knn.score(test_visual_words, test_labels), 2)\n",
    "    delta_time = round(time.time() - start_time, 2)\n",
    "    accuracies[step_size] = [train_accuracy, test_accuracy, delta_time]\n",
    "\n",
    "    print('Accuracy of the train dataset using step size of {0}: {1} %'.format(step_size, train_accuracy))\n",
    "    print('Accuracy of the test dataset using step size of {0}: {1} %    Time: {2} seconds'.format(step_size, test_accuracy, delta_time))"
   ]
  },
  {
   "cell_type": "markdown",
   "metadata": {},
   "source": [
    "As we can see, we reach a very good results in the step sizes between 10 and 20, but the step size of 20 still being the best for us when we evaluate the test dataset. However, in the case of the training dataset, we reach the best result using a step size of 12. For the next experiments we will use only the step sizes of 12 and 20."
   ]
  },
  {
   "cell_type": "code",
   "execution_count": 68,
   "metadata": {},
   "outputs": [
    {
     "data": {
      "image/png": "[encoded data removed]",
      "text/plain": [
       "<Figure size 432x288 with 1 Axes>"
      ]
     },
     "metadata": {
      "needs_background": "light"
     },
     "output_type": "display_data"
    }
   ],
   "source": [
    "\n",
    "\n",
    "X = sorted(accuracies)\n",
    "\n",
    "fig = plt.figure()\n",
    "ax = fig.add_axes([0,0,3,1.5])\n",
    "for i in X:\n",
    "    ax.bar(i - 0.2, accuracies[i][0], color = 'b', width = 0.4)\n",
    "    ax.bar(i + 0.2, accuracies[i][1], color = 'r', width = 0.4)\n",
    "    #ax.bar(i + 0.50, accuracies[i][2], color = 'r', width = 0.25)\n",
    "\n",
    "ax.legend(labels=['Train Dataset', 'Test Dataset'], fontsize=20)\n",
    "ax.set_ylabel('Accuracy (%)', fontsize=15)\n",
    "ax.set_xlabel('Step Size', fontsize=15)\n",
    "ax.set_title('Accuracy vs Step size of the dense SIFT', fontsize=20)\n",
    "ax.set_xticks(np.arange(0,51, 1))\n",
    "ax.set_yticks(np.arange(0, 101, 10))\n",
    "plt.grid()"
   ]
  },
  {
   "cell_type": "code",
   "execution_count": 73,
   "metadata": {},
   "outputs": [
    {
     "name": "stdout",
     "output_type": "stream",
     "text": [
      "                                   3       6       9       10      12      14  \\\n",
      "Accuracy Training dataset (%)   81.45   82.51   84.10   83.89   84.21   83.79   \n",
      "Accuracy Test Dataset (%)       70.14   73.23   73.48   75.96   76.83   76.70   \n",
      "Execution Time (s)             456.75  207.97  191.49  147.33  139.35  140.51   \n",
      "\n",
      "                                   16      18      20      30      40      50  \n",
      "Accuracy Training dataset (%)   82.99   84.05   82.62   81.50   78.36   76.66  \n",
      "Accuracy Test Dataset (%)       75.84   74.47   77.94   72.24   70.26   66.91  \n",
      "Execution Time (s)             132.05  134.52  160.49  161.92  156.96  151.61  \n"
     ]
    }
   ],
   "source": [
    "\n",
    "\n",
    "df = pd.DataFrame(index=['Accuracy Training dataset (%)','Accuracy Test Dataset (%)','Execution Time (s)'])\n",
    "for key in X:\n",
    "    df[key] = accuracies[key]\n",
    "#df = pd.DataFrame(accuracies[key], index=['Accuracy Training dataset (%)','Accuracy Test Dataset (%)','Execution Time (s)'])\n",
    "\n",
    "print (df)"
   ]
  },
  {
   "cell_type": "markdown",
   "metadata": {},
   "source": [
    "To test different values of the scale, we modified the sigma parameter of the dense SIFT descriptor. As we knew that the default value was 1.6, we iterated between 1.4 and 1.8 with small step sizes of 0.05 to get the best performance."
   ]
  },
  {
   "cell_type": "code",
   "execution_count": 15,
   "metadata": {},
   "outputs": [
    {
     "name": "stdout",
     "output_type": "stream",
     "text": [
      "Accuracy of the train dataset using step size of 12, and a sigma value of 1.45: 83.35991493886232 %\n",
      "Accuracy of the test dataset using step size of 12, and a sigma value of 1.45: 77.44733581164807 %    Time: 123.25076580047607 seconds\n",
      "Accuracy of the train dataset using step size of 12, and a sigma value of 1.5: 84.15736310473153 %\n",
      "Accuracy of the test dataset using step size of 12, and a sigma value of 1.5: 75.71251548946717 %    Time: 112.12463665008545 seconds\n",
      "Accuracy of the train dataset using step size of 12, and a sigma value of 1.55: 83.20042530568847 %\n",
      "Accuracy of the test dataset using step size of 12, and a sigma value of 1.55: 76.08426270136307 %    Time: 118.19219541549683 seconds\n",
      "Accuracy of the train dataset using step size of 12, and a sigma value of 1.6: 82.93460925039872 %\n",
      "Accuracy of the test dataset using step size of 12, and a sigma value of 1.6: 76.08426270136307 %    Time: 118.38383197784424 seconds\n",
      "Accuracy of the train dataset using step size of 12, and a sigma value of 1.6500000000000001: 84.10419989367358 %\n",
      "Accuracy of the test dataset using step size of 12, and a sigma value of 1.6500000000000001: 76.82775712515489 %    Time: 130.49859952926636 seconds\n",
      "Accuracy of the train dataset using step size of 20, and a sigma value of 1.45: 83.25358851674642 %\n",
      "Accuracy of the test dataset using step size of 20, and a sigma value of 1.45: 75.8364312267658 %    Time: 171.7923047542572 seconds\n",
      "Accuracy of the train dataset using step size of 20, and a sigma value of 1.5: 83.89154704944178 %\n",
      "Accuracy of the test dataset using step size of 20, and a sigma value of 1.5: 75.21685254027261 %    Time: 176.75964617729187 seconds\n",
      "Accuracy of the train dataset using step size of 20, and a sigma value of 1.55: 81.76501860712388 %\n",
      "Accuracy of the test dataset using step size of 20, and a sigma value of 1.55: 73.97769516728626 %    Time: 152.95001673698425 seconds\n",
      "Accuracy of the train dataset using step size of 20, and a sigma value of 1.6: 81.92450824029771 %\n",
      "Accuracy of the test dataset using step size of 20, and a sigma value of 1.6: 75.21685254027261 %    Time: 145.2590470314026 seconds\n",
      "Accuracy of the train dataset using step size of 20, and a sigma value of 1.6500000000000001: 83.20042530568847 %\n",
      "Accuracy of the test dataset using step size of 20, and a sigma value of 1.6500000000000001: 74.34944237918215 %    Time: 160.75950074195862 seconds\n"
     ]
    }
   ],
   "source": [
    "\n",
    "\n",
    "accuracies12 = {}\n",
    "accuracies20 = {}\n",
    "\n",
    "def denseSIFT(step_size, images, sigma):\n",
    "    Detector = cv2.SIFT_create(sigma=sigma)\n",
    "    descriptors = []\n",
    "\n",
    "    for image in images:\n",
    "        kp = [cv2.KeyPoint(x, y, step_size) for y in range(0, image.shape[0], step_size) \n",
    "                                            for x in range(0, image.shape[1], step_size)]\n",
    "        kpt,desc = Detector.compute(image, kp)\n",
    "        #dense_feat_array = list(dense_feat)\n",
    "        #desc=dense_feat_array.flatten()\n",
    "        #print(desc)\n",
    "        descriptors.append(desc)\n",
    "    \n",
    "    return descriptors\n",
    "\n",
    "sigma = np.arange(1.45,1.7,0.05)\n",
    "step_sizes = [12,20]\n",
    "for step_size in step_sizes:\n",
    "    \n",
    "    for i in sigma:\n",
    "        start_time = time.time()\n",
    "        descriptors = denseSIFT(step_size, train_images,sigma=i)\n",
    "        codebook = codebook_generator(128, descriptors)\n",
    "        visual_words = visual_words_generator(codebook, descriptors)\n",
    "        knn = build_knn(visual_words, train_labels, 5)\n",
    "        train_accuracy = 100*knn.score(visual_words, train_labels)\n",
    "        \n",
    "        test_descriptors = denseSIFT(step_size, test_images,sigma=i)\n",
    "        test_visual_words = visual_words_generator(codebook, test_descriptors)\n",
    "        test_accuracy = 100*knn.score(test_visual_words, test_labels)\n",
    "        delta_time = time.time() - start_time\n",
    "\n",
    "        if step_size == 12:\n",
    "\n",
    "            accuracies12[i] = [train_accuracy, test_accuracy]\n",
    "\n",
    "        else:\n",
    "            accuracies20[i] = [train_accuracy, test_accuracy]\n",
    "\n",
    "        print('Accuracy of the train dataset using step size of {0}, and a sigma value of {1}: {2} %'.format(step_size, i,train_accuracy))\n",
    "        print('Accuracy of the test dataset using step size of {0}, and a sigma value of {1}: {2} %    Time: {3} seconds'.format(step_size, i,test_accuracy, delta_time)) \n"
   ]
  },
  {
   "cell_type": "code",
   "execution_count": 26,
   "metadata": {},
   "outputs": [
    {
     "data": {
      "image/png": "[encoded data removed]",
      "text/plain": [
       "<Figure size 432x288 with 1 Axes>"
      ]
     },
     "metadata": {
      "needs_background": "light"
     },
     "output_type": "display_data"
    }
   ],
   "source": [
    "X = sorted(accuracies12)\n",
    "fig = plt.figure()\n",
    "axs = fig.add_axes([1,0,3,1.5])\n",
    "for i in X:\n",
    "    axs.bar(i - 0.001, accuracies12[i][0], color = 'b', width = 0.002)\n",
    "    axs.bar(i +0.001, accuracies12[i][1], color = 'r', width = 0.002)\n",
    "    #ax.bar(i + 0.50, accuracies[i][2], color = 'r', width = 0.25)\n",
    "    axs.set_xticks(np.arange(1.44,1.66, 0.01))\n",
    "    axs.set_yticks(np.arange(0, 101, 10))\n",
    "\n",
    "axs.legend(labels=['Train Dataset', 'Test Dataset'], fontsize=20)\n",
    "axs.set_xticks(np.arange(1.44,1.66, 0.01))\n",
    "axs.set_yticks(np.arange(0, 101, 10))\n",
    "axs.set_ylabel('Accuracy (%)', fontsize=15)\n",
    "axs.set_xlabel('Sigma', fontsize=15)\n",
    "\n",
    "\n",
    "axs.set_title('Accuracy vs Sigma of the dense SIFT.Step size: 12', fontsize=20)\n",
    "plt.grid()"
   ]
  },
  {
   "cell_type": "code",
   "execution_count": 27,
   "metadata": {},
   "outputs": [
    {
     "data": {
      "image/png": "[encoded data removed]",
      "text/plain": [
       "<Figure size 432x288 with 1 Axes>"
      ]
     },
     "metadata": {
      "needs_background": "light"
     },
     "output_type": "display_data"
    }
   ],
   "source": [
    "X = sorted(accuracies20)\n",
    "fig = plt.figure()\n",
    "axs = fig.add_axes([1,0,3,1.5])\n",
    "for i in X:\n",
    "    axs.bar(i - 0.001, accuracies20[i][0], color = 'b', width = 0.002)\n",
    "    axs.bar(i +0.001, accuracies20[i][1], color = 'r', width = 0.002)\n",
    "    #ax.bar(i + 0.50, accuracies[i][2], color = 'r', width = 0.25)\n",
    "    \n",
    "\n",
    "axs.legend(labels=['Train Dataset', 'Test Dataset'], fontsize=20)\n",
    "axs.set_xticks(np.arange(1.44,1.66, 0.01))\n",
    "axs.set_yticks(np.arange(0, 101, 10))\n",
    "axs.set_ylabel('Accuracy (%)', fontsize=15)\n",
    "axs.set_xlabel('Sigma', fontsize=15)\n",
    "\n",
    "\n",
    "axs.set_title('Accuracy vs Sigma of the dense SIFT.Step size: 20', fontsize=20)\n",
    "plt.grid()"
   ]
  },
  {
   "cell_type": "markdown",
   "metadata": {},
   "source": [
    "It seems that the best accuracy was obtained with a sigma of 1.45 for both cases in the test_set, step size= 12 and step size=20. From now on a sigma of 1.45 will be used."
   ]
  },
  {
   "cell_type": "markdown",
   "metadata": {},
   "source": [
    "### 2. Normalize the feature descriptors"
   ]
  },
  {
   "cell_type": "markdown",
   "metadata": {},
   "source": [
    "Normalization refers to rescaling real-valued numeric attributes into a 0 to 1 range.\n",
    "\n",
    "Data normalization is used in machine learning to make model training less sensitive to the scale of features. This allows our model to converge to better weights and, in turn, leads to a more accurate model.\n",
    "\n",
    "The function used for finding norms of vectors and matrices is called norm and can be called in Python as numpy.linalg.norm(x). The function returns different results, depending on the value passed for argument x. Generally, x is a vector or a matrix, i.e a 1-D or a 2-D NumPy array.\n",
    "\n",
    "This function takes a second parameter called ord, which determines the type of norm to be calculated on the array. The default value for this is None, in which case we get the 2-norm(popularly known as the ‘L2 norm’ or ‘Euclidean norm’) of a vector."
   ]
  },
  {
   "cell_type": "code",
   "execution_count": 19,
   "metadata": {},
   "outputs": [
    {
     "name": "stdout",
     "output_type": "stream",
     "text": [
      "Accuracy of the train dataset using step size of 12: 84.0 %\n",
      "Accuracy of the test dataset using step size of 12: 74.97 %    Time: 118.84 seconds\n",
      "Accuracy of the train dataset using step size of 20: 83.25 %\n",
      "Accuracy of the test dataset using step size of 20: 74.1 %    Time: 149.33 seconds\n"
     ]
    }
   ],
   "source": [
    "def denseSIFT_norm(step_size, images):\n",
    "    Detector = cv2.SIFT_create(sigma = 1.45)\n",
    "    descriptors = []\n",
    "\n",
    "    for image in images:\n",
    "        kp = [cv2.KeyPoint(x, y, step_size) for y in range(0, image.shape[0], step_size) \n",
    "                                            for x in range(0, image.shape[1], step_size)]\n",
    "        kpt,desc = Detector.compute(image, kp)\n",
    "        #dense_feat_array = list(dense_feat)\n",
    "        #desc=dense_feat_array.flatten()\n",
    "        #print(desc)\n",
    "        desc_norm = np.linalg.norm(desc)\n",
    "        desc_normalized = desc/desc_norm\n",
    "        descriptors.append(desc_normalized)\n",
    "    \n",
    "    return descriptors\n",
    "\n",
    "step_sizes = [12,20]\n",
    "\n",
    "for step_size in step_sizes:\n",
    "    start_time = time.time()\n",
    "    descriptors = denseSIFT_norm(step_size, train_images)\n",
    "    codebook = codebook_generator(128, descriptors)\n",
    "    visual_words = visual_words_generator(codebook, descriptors)\n",
    "    knn = build_knn(visual_words, train_labels, 5)\n",
    "    train_accuracy = round(100*knn.score(visual_words, train_labels), 2)\n",
    "\n",
    "    test_descriptors = denseSIFT_norm(step_size, test_images)\n",
    "    test_visual_words = visual_words_generator(codebook, test_descriptors)\n",
    "    test_accuracy = round(100*knn.score(test_visual_words, test_labels), 2)\n",
    "    delta_time = round(time.time() - start_time, 2)\n",
    "    print('Accuracy of the train dataset using step size of {0}: {1} %'.format(step_size, train_accuracy))\n",
    "    print('Accuracy of the test dataset using step size of {0}: {1} %    Time: {2} seconds'.format(step_size, test_accuracy, delta_time))"
   ]
  },
  {
   "cell_type": "markdown",
   "metadata": {},
   "source": [
    "As we can see, after performing the normalization of the descriptors using the L2 norm, there is an improvement of the accuracy in the training set. but in the case of the test set the accuracy decreases."
   ]
  },
  {
   "cell_type": "markdown",
   "metadata": {},
   "source": [
    "### 3. Cross-Validation"
   ]
  },
  {
   "cell_type": "markdown",
   "metadata": {},
   "source": [
    "Cross-validation is a resampling methology that is used to evaluate the consistency of a machine learning model. It has a single parameter called k that refers to the number of groups that a dataset is to be split into. For each group, it takes one group as test data set and the remaining as training data set. Then, the model is fitted on the on the training set and evaluate it on the test set. This procedure is done it for all groups. Finally, the final accuracy of the model is calculated by doing the mean value of the different tests. \n",
    "\n",
    "In this exercise, we will specify that the split groups of the data have the same distribution of the target variable, which is called \"stratified split\". Firstly we will perform the cross valitation of the model in order to decide the final step size value. Secondly, we will use it to perform a parameter optimization on the number of neighbors.\n"
   ]
  },
  {
   "cell_type": "markdown",
   "metadata": {},
   "source": [
    "##### 3.1. Cross-validation of the kNN model in the optimization of the step size"
   ]
  },
  {
   "cell_type": "code",
   "execution_count": 16,
   "metadata": {},
   "outputs": [],
   "source": [
    "\n",
    "\n",
    "def accuracy_CV_KNN(visual_words, labels, n_neighbors=5, metric = 'euclidean'):\n",
    "    knn = KNeighborsClassifier(n_neighbors=n_neighbors,n_jobs=-1,metric=metric)  # Compute distances with all samples and peak the label of majority k nearest\n",
    "    skf=StratifiedKFold(n_splits=5)\n",
    "    cv_results=cross_validate(knn, visual_words, labels, cv=skf)\n",
    "\n",
    "    return 100*np.mean(cv_results['test_score'])\n",
    "\n",
    "def denseSIFT_norm(step_size, images):\n",
    "    Detector = cv2.SIFT_create(sigma = 1.45)\n",
    "    descriptors = []\n",
    "\n",
    "    for image in images:\n",
    "        kp = [cv2.KeyPoint(x, y, step_size) for y in range(0, image.shape[0], step_size) \n",
    "                                            for x in range(0, image.shape[1], step_size)]\n",
    "        kpt,desc = Detector.compute(image, kp)\n",
    "        #dense_feat_array = list(dense_feat)\n",
    "        #desc=dense_feat_array.flatten()\n",
    "        #print(desc)\n",
    "        desc_norm = np.linalg.norm(desc)\n",
    "        desc_normalized = desc/desc_norm\n",
    "        descriptors.append(desc_normalized)\n",
    "    \n",
    "    return descriptors"
   ]
  },
  {
   "cell_type": "code",
   "execution_count": 21,
   "metadata": {},
   "outputs": [
    {
     "name": "stdout",
     "output_type": "stream",
     "text": [
      "Accuracy of the train dataset using step size of 12: 83.79 %\n",
      "Accuracy of the cross-validated train dataset using step size of 12: 74.16346859303574 % \n",
      "Accuracy of the test dataset using step size of 12: 76.58 %    Time: 223.53 seconds\n",
      "Accuracy of the train dataset using step size of 20: 84.58 %\n",
      "Accuracy of the cross-validated train dataset using step size of 20: 74.3236074270557 % \n",
      "Accuracy of the test dataset using step size of 20: 77.45 %    Time: 132.26 seconds\n"
     ]
    }
   ],
   "source": [
    "step_sizes=[12,20]\n",
    "\n",
    "for step_size in step_sizes:\n",
    "    start_time = time.time()\n",
    "    descriptors = denseSIFT_norm(step_size, train_images)\n",
    "    codebook = codebook_generator(128, descriptors)\n",
    "    visual_words = visual_words_generator(codebook, descriptors)\n",
    "    knn = build_knn(visual_words, train_labels, 5)\n",
    "    train_accuracy = round(100*knn.score(visual_words, train_labels), 2)\n",
    "    train_accuracy_cv=accuracy_CV_KNN(visual_words=visual_words, labels=train_labels, n_neighbors=5)\n",
    "    \n",
    "    test_descriptors = denseSIFT_norm(step_size, test_images)\n",
    "    test_visual_words = visual_words_generator(codebook, test_descriptors)\n",
    "    test_accuracy = round(100*knn.score(test_visual_words, test_labels), 2)\n",
    "    delta_time = round(time.time() - start_time, 2)\n",
    "\n",
    "    print('Accuracy of the train dataset using step size of {0}: {1} %'.format(step_size, train_accuracy))\n",
    "    print('Accuracy of the cross-validated train dataset using step size of {0}: {1} % '.format(step_size, train_accuracy_cv))\n",
    "    print('Accuracy of the test dataset using step size of {0}: {1} %    Time: {2} seconds'.format(step_size, test_accuracy, delta_time))"
   ]
  },
  {
   "cell_type": "markdown",
   "metadata": {},
   "source": [
    "The K-fold cross validation method shows us the model accuracy values much closer to reality, i.e. those obtained with the test set. This method is very useful to know how good our system really is and allows us to fine-tune the hyperparameters of our algorithm in a much more accurate way without overfitting. \n",
    "\n",
    "Once the cross validation is done, we see that the best accuracy is obtained with a step size of 20 in both the training set and the test set, so from now on we will use this value."
   ]
  },
  {
   "cell_type": "markdown",
   "metadata": {},
   "source": [
    "##### 3.2. Hyperparameter optimization in KNN with cross validation"
   ]
  },
  {
   "cell_type": "markdown",
   "metadata": {},
   "source": [
    "In this section we will use the gridsearchcv function to perform an optimization of the model, i.e. to find the best parameters for our starting data. From the parameters of the knn model, we can tune the number of neighbors, the weight of the neighbors and the metric. At this point, we will focus only on the number of neighbors and we will skip the other two. In the case of the metric, in week 1 we could already see that the one that gave the best results was the Euclidean one.  \n",
    "\n",
    "As in the previous section, we will specify that the split groups of the data have the same distribution of the target variable, which is called \"stratified split\".\n"
   ]
  },
  {
   "cell_type": "code",
   "execution_count": 22,
   "metadata": {},
   "outputs": [
    {
     "name": "stdout",
     "output_type": "stream",
     "text": [
      "Fitting 5 folds for each of 5 candidates, totalling 25 fits\n",
      "The best parameters for the model are:  {'n_neighbors': 19}\n",
      "Accuracy for our training dataset with the best tunned model : 75.70545741859021%\n"
     ]
    }
   ],
   "source": [
    "step_size=20\n",
    "descriptors = denseSIFT_norm(step_size, train_images)\n",
    "codebook = codebook_generator(128, descriptors)\n",
    "visual_words = visual_words_generator(codebook, descriptors)\n",
    "\n",
    "grid_params= {\n",
    "    'n_neighbors':[5,11,19,27,31]\n",
    "}\n",
    "skf=StratifiedKFold(n_splits=5)\n",
    "grid=GridSearchCV(KNeighborsClassifier(n_jobs=-1,metric='euclidean'),grid_params,verbose=1,cv=skf)\n",
    "\n",
    "grid_results = grid.fit(visual_words,train_labels)\n",
    "print(\"The best parameters for the model are: \", grid_results.best_params_)\n",
    "\n",
    "accuracy = grid_results.best_score_ *100\n",
    "print(\"Accuracy for our training dataset with the best tunned model : {0}%\".format(accuracy) )"
   ]
  },
  {
   "cell_type": "code",
   "execution_count": 23,
   "metadata": {},
   "outputs": [
    {
     "name": "stdout",
     "output_type": "stream",
     "text": [
      "Accuracy for our test dataset with the best model is : 75.71%\n"
     ]
    }
   ],
   "source": [
    "best_knn=build_knn(visual_words, train_labels, n_neighbors= 19)\n",
    "test_descriptors = denseSIFT_norm(step_size, test_images)\n",
    "test_visual_words = visual_words_generator(codebook, test_descriptors)\n",
    "test_accuracy = round(100*best_knn.score(test_visual_words, test_labels), 2)\n",
    "\n",
    "print(\"Accuracy for our test dataset with the best model is : {0}%\".format(test_accuracy) )"
   ]
  },
  {
   "cell_type": "markdown",
   "metadata": {},
   "source": [
    "Finally, we can see that after this step the accuracy achieved with the training set and with the test set is very similar. This means that the system has a lot of consistency."
   ]
  },
  {
   "cell_type": "markdown",
   "metadata": {},
   "source": [
    "### 4. SVM Classifier"
   ]
  },
  {
   "cell_type": "markdown",
   "metadata": {},
   "source": [
    "- Use sklearn standardScaler to project every dimension to [0,1]\n",
    "- Use Linear Kernel\n",
    "- Use RBF kernel\n",
    "- Use Histogram intersection Kernel"
   ]
  },
  {
   "cell_type": "markdown",
   "metadata": {},
   "source": [
    "Standardisation is a scaling technique in which values are centred around the mean with a unit standard deviation. This means that the mean of the attribute becomes zero and the resulting distribution has a unit standard deviation.\n",
    "First, we will standarise our data to see which feature scaling works best in our dataset, standardisation or normalisation."
   ]
  },
  {
   "cell_type": "code",
   "execution_count": 54,
   "metadata": {},
   "outputs": [
    {
     "name": "stdout",
     "output_type": "stream",
     "text": [
      "Accuracy of the train dataset using step size of 20: 76.02 %\n",
      "Accuracy of the test dataset using step size of 20: 64.19 %    Time: 178.01 seconds\n"
     ]
    }
   ],
   "source": [
    "def denseSIFT_std(step_size, images):\n",
    "    Detector = cv2.SIFT_create(sigma = 1.45)\n",
    "    descriptors = []\n",
    "    scaler = StandardScaler()\n",
    "    for image in images:\n",
    "        kp = [cv2.KeyPoint(x, y, step_size) for y in range(0, image.shape[0], step_size) \n",
    "                                            for x in range(0, image.shape[1], step_size)]\n",
    "        kpt,desc = Detector.compute(image, kp)\n",
    "        #dense_feat_array = list(dense_feat)\n",
    "        #desc=dense_feat_array.flatten()\n",
    "        #print(desc)\n",
    "        desc_standardised = scaler.fit_transform(desc)\n",
    "        descriptors.append(desc_standardised)\n",
    "    \n",
    "    \n",
    "    return descriptors\n",
    "\n",
    "step_sizes = 20\n",
    "start_time = time.time()\n",
    "descriptors = denseSIFT_std(step_size, train_images)\n",
    "codebook = codebook_generator(128, descriptors)\n",
    "visual_words = visual_words_generator(codebook, descriptors)\n",
    "knn = build_knn(visual_words, train_labels, 5)\n",
    "train_accuracy = round(100*knn.score(visual_words, train_labels), 2)\n",
    "\n",
    "test_descriptors = denseSIFT_std(step_size, test_images)\n",
    "test_visual_words = visual_words_generator(codebook, test_descriptors)\n",
    "test_accuracy = round(100*knn.score(test_visual_words, test_labels), 2)\n",
    "delta_time = round(time.time() - start_time, 2)\n",
    "print('Accuracy of the train dataset using step size of {0}: {1} %'.format(step_size, train_accuracy))\n",
    "print('Accuracy of the test dataset using step size of {0}: {1} %    Time: {2} seconds'.format(step_size, test_accuracy, delta_time))"
   ]
  },
  {
   "cell_type": "markdown",
   "metadata": {},
   "source": [
    "As we can see we get worse results when we standardise our data. The feaure scaling depends on the distribution of the dataset, in the cases that follow a gaussian distribution it is recommended to use standardisation, the rest of the cases it is better to normalise. Therefore, we will continue normalising our data in the rest of the tasks."
   ]
  },
  {
   "cell_type": "markdown",
   "metadata": {},
   "source": [
    "The SVM predictor have 3 hyper-parameters to take into account:\n",
    "1. Kernels: The main function of this parameter is to take low dimensional input space and transform it into a higher-dimensional space.\n",
    "2. C (Regularisation): C is the penalty parameter, which represents misclassification or error term. \n",
    "3. Gamma: It defines how far influences the calculation of plausible line of separation.\n",
    " In order to improve our model accuracy these parameters need to be tuned. To do so a GridSearch was done:"
   ]
  },
  {
   "cell_type": "code",
   "execution_count": 56,
   "metadata": {},
   "outputs": [
    {
     "name": "stdout",
     "output_type": "stream",
     "text": [
      "Best estimator: SVC(C=1, gamma=0.001)\n",
      "Step size:20\n",
      "              precision    recall  f1-score   support\n",
      "\n",
      " Opencountry       0.71      0.65      0.68       118\n",
      "       coast       0.75      0.86      0.80       116\n",
      "      forest       0.86      0.94      0.90       101\n",
      "     highway       0.84      0.76      0.80        76\n",
      " inside_city       0.89      0.78      0.83        94\n",
      "    mountain       0.81      0.78      0.79       114\n",
      "      street       0.88      0.89      0.88        80\n",
      "tallbuilding       0.81      0.85      0.83       108\n",
      "\n",
      "    accuracy                           0.81       807\n",
      "   macro avg       0.82      0.81      0.81       807\n",
      "weighted avg       0.81      0.81      0.81       807\n",
      "\n",
      "Time: 389.34 seconds\n"
     ]
    }
   ],
   "source": [
    "\n",
    "#Definition of Hyper-parameters:\n",
    "param = {'C': [0.1,1, 10, 100], 'gamma': [1,0.1,0.01,0.001],'kernel': ['rbf', 'linear', 'sigmoid']}\n",
    "\n",
    "def build_SVC(visual_words, labels):\n",
    "    skf = StratifiedKFold(n_splits=5)\n",
    "    SVC_grid = GridSearchCV(SVC(),param,refit=True,cv=skf)\n",
    "    SVC_grid.fit(visual_words,labels)\n",
    "    print('Best estimator:',SVC_grid.best_estimator_)\n",
    "    return SVC_grid\n",
    "\n",
    "#svc = build_SVC(visual_words,train_labels)\n",
    "\n",
    "step_size = 20\n",
    "\n",
    "start_time = time.time()\n",
    "descriptors = denseSIFT_norm(step_size, train_images)\n",
    "codebook = codebook_generator(128, descriptors)\n",
    "visual_words = visual_words_generator(codebook, descriptors)\n",
    "svc = build_SVC(visual_words, train_labels)\n",
    "\n",
    "\n",
    "test_descriptors = denseSIFT_norm(step_size, test_images)\n",
    "test_visual_words = visual_words_generator(codebook, test_descriptors)\n",
    "test_prediction = svc.predict(test_visual_words)\n",
    "delta_time = round(time.time() - start_time, 2)\n",
    "\n",
    "print('Step size:{0}'.format(step_size))\n",
    "print(classification_report(test_labels,test_prediction))\n",
    "\n",
    "print( 'Time: {0} seconds'.format(delta_time))"
   ]
  },
  {
   "cell_type": "markdown",
   "metadata": {},
   "source": [
    "As we can see, the accuracy of the test set has increased after using the SVM classifier. This makes a lot of sense, since in classification tasks the SVM is better than most of the other algorithms used in terms of accuracy. One of the main reasons is the fact that SVM provides a very useful technique within it, the kernel function, by the application of this function we can solve any complex problem. Thus the kernel provides the choice of a function which is not necessarily linear and can have different forms in terms of the different data, thus Input data can be converted into High dimensional data avoiding the need of this assumption."
   ]
  },
  {
   "cell_type": "markdown",
   "metadata": {},
   "source": [
    "### 5. Spatial Pyramids"
   ]
  },
  {
   "cell_type": "markdown",
   "metadata": {},
   "source": [
    "One of the disadvantages of using BoW is that it ignores the spatial information of the image descriptors. One way to solve this problem is to use an algorithm called Spatial Pyramid Matching (SPM). This algorithm consists of creating a vector of descriptors as follows:\n",
    "1) The image is divided into different blocks (1 block at level 0, 4 at level 1 and 16 at level 2).\n",
    "2) In each level and in each block, the search for features (SIFT or dense SIFT, etc) is performed.\n",
    "3) Then, the number of features of each type per block is counted (creating a histogram) and the concatenation of the histograms of the different features is carried out.\n",
    "3) Finally, a single vector is made by concatenating the information of the 3 levels.\n",
    "Once the new vector of descriptors is obtained, it is introduced in the classifier (SVM or KNN) as input, as if it were the vector resulting from the SIFT dense directly.\n",
    "\n",
    "In this exercise, we will perform a 3-level SPM and it will be used in the best SVM model that we have found in the previous\n"
   ]
  },
  {
   "cell_type": "code",
   "execution_count": 6,
   "metadata": {},
   "outputs": [],
   "source": [
    "def denseSIFT_norm(step_size, images):\n",
    "    Detector = cv2.SIFT_create(sigma = 1.45)\n",
    "    descriptors = []\n",
    "\n",
    "    for image in images:\n",
    "        kp = [cv2.KeyPoint(x, y, step_size) for y in range(0, image.shape[0], step_size) \n",
    "                                            for x in range(0, image.shape[1], step_size)]\n",
    "        kpt,desc = Detector.compute(image, kp)\n",
    "        desc_norm = np.linalg.norm(desc)\n",
    "        desc_normalized = desc/desc_norm\n",
    "        descriptors.append(desc_normalized)\n",
    "    \n",
    "    return descriptors"
   ]
  },
  {
   "cell_type": "code",
   "execution_count": 31,
   "metadata": {},
   "outputs": [],
   "source": [
    "\n",
    "def denseSIFT_SPM(img):\n",
    "    DSIFT_STEP_SIZE = 2\n",
    "    sift = cv2.xfeatures2d.SIFT_create()\n",
    "    disft_step_size = DSIFT_STEP_SIZE\n",
    "    keypoints = [cv2.KeyPoint(x, y, disft_step_size)\n",
    "            for y in range(0, img.shape[0], disft_step_size)\n",
    "                for x in range(0, img.shape[1], disft_step_size)]\n",
    "\n",
    "    descriptors = sift.compute(img, keypoints)[1]\n",
    "    return descriptors\n",
    "\n",
    "# form histogram with Spatial Pyramid Matching upto level L with codebook kmeans and k codewords\n",
    "def getImageFeaturesSPM(L, img, kmeans, k):\n",
    "    W = img.shape[1]\n",
    "    H = img.shape[0]   \n",
    "    h = []\n",
    "    for l in range(L+1):\n",
    "        w_step = math.floor(W/(2**l))\n",
    "        h_step = math.floor(H/(2**l))\n",
    "        x, y = 0, 0\n",
    "        for i in range(1,2**l + 1):\n",
    "            x = 0\n",
    "            for j in range(1, 2**l + 1):                \n",
    "                desc = denseSIFT_SPM(img[y:y+h_step, x:x+w_step])                \n",
    "                #print(\"type:\",desc is None, \"x:\",x,\"y:\",y, \"desc_size:\",desc is None)\n",
    "                predict = kmeans.predict(desc)\n",
    "                histo = np.bincount(predict, minlength=k).reshape(1,-1).ravel()\n",
    "                weight = 2**(l-L)\n",
    "                h.append(weight*histo)\n",
    "                x = x + w_step\n",
    "            y = y + h_step\n",
    "            \n",
    "    hist = np.array(h).ravel()\n",
    "    # normalize hist\n",
    "    dev = np.std(hist)\n",
    "    hist -= np.mean(hist)\n",
    "    hist /= dev\n",
    "    return hist\n",
    "\n",
    "\n",
    "# get histogram representation for training/testing data\n",
    "def getHistogramSPM(L, data, kmeans, k):    \n",
    "    x = []\n",
    "    for i in range(len(data)):        \n",
    "        hist = getImageFeaturesSPM(L, data[i], kmeans, k)        \n",
    "        x.append(hist)\n",
    "    return np.array(x)"
   ]
  },
  {
   "cell_type": "code",
   "execution_count": 17,
   "metadata": {},
   "outputs": [],
   "source": [
    "# build BoW presentation from SIFT of training images \n",
    "def clusterFeatures(descriptors, k):\n",
    "    D=np.vstack(descriptors)\n",
    "    kmeans = MiniBatchKMeans(n_clusters=k, verbose=False, batch_size=k * 20,compute_labels=False,reassignment_ratio=10**-4,random_state=42)\n",
    "    return kmeans.fit(D)"
   ]
  },
  {
   "cell_type": "code",
   "execution_count": 33,
   "metadata": {},
   "outputs": [],
   "source": [
    "step_size=20\n",
    "descriptors = denseSIFT_norm(step_size,train_images)\n",
    "k = 128\n",
    "codebook = codebook_generator(k, descriptors)\n",
    "train_histo = getHistogramSPM(2, train_images, codebook, k)\n",
    "test_histo = getHistogramSPM(2, test_images, codebook, k)"
   ]
  },
  {
   "cell_type": "code",
   "execution_count": 34,
   "metadata": {},
   "outputs": [
    {
     "name": "stdout",
     "output_type": "stream",
     "text": [
      "              precision    recall  f1-score   support\n",
      "\n",
      " Opencountry       0.70      0.76      0.73       118\n",
      "       coast       0.82      0.85      0.84       116\n",
      "      forest       0.90      0.91      0.91       101\n",
      "     highway       0.89      0.82      0.85        76\n",
      " inside_city       0.89      0.88      0.89        94\n",
      "    mountain       0.82      0.79      0.80       114\n",
      "      street       0.87      0.81      0.84        80\n",
      "tallbuilding       0.88      0.89      0.88       108\n",
      "\n",
      "    accuracy                           0.84       807\n",
      "   macro avg       0.85      0.84      0.84       807\n",
      "weighted avg       0.84      0.84      0.84       807\n",
      "\n"
     ]
    }
   ],
   "source": [
    "clf = SVC(C=0.1,gamma=1,kernel='linear')\n",
    "clf.fit(train_histo, train_labels)\n",
    "test = clf.predict(test_histo)\n",
    "\n",
    "print(classification_report(test_labels,test))"
   ]
  },
  {
   "cell_type": "markdown",
   "metadata": {},
   "source": [
    "We can see that taking into account the spatial distribution of the descriptors the accuracy of our model improves."
   ]
  },
  {
   "cell_type": "markdown",
   "metadata": {},
   "source": [
    "Finally, to further improve our algorithm we will use the histogram intersection kernel. This kernel calculates the similarity of two discretized probability distributions (histograms), with possible value of the intersection lying between 0 (no overlap) and 1 (identical distributions)."
   ]
  },
  {
   "cell_type": "code",
   "execution_count": 48,
   "metadata": {},
   "outputs": [
    {
     "name": "stdout",
     "output_type": "stream",
     "text": [
      "              precision    recall  f1-score   support\n",
      "\n",
      " Opencountry       0.79      0.81      0.79       118\n",
      "       coast       0.82      0.84      0.83       116\n",
      "      forest       0.90      0.94      0.92       101\n",
      "     highway       0.89      0.83      0.86        76\n",
      " inside_city       0.94      0.86      0.90        94\n",
      "    mountain       0.86      0.82      0.84       114\n",
      "      street       0.88      0.89      0.88        80\n",
      "tallbuilding       0.88      0.94      0.91       108\n",
      "\n",
      "    accuracy                           0.86       807\n",
      "   macro avg       0.87      0.87      0.87       807\n",
      "weighted avg       0.87      0.86      0.86       807\n",
      "\n"
     ]
    }
   ],
   "source": [
    "def HIK(data_1, data_2):\n",
    "    kernel = np.zeros((data_1.shape[0], data_2.shape[0]))\n",
    "\n",
    "    for d in range(data_1.shape[1]):\n",
    "        column_1 = data_1[:, d].reshape(-1, 1)\n",
    "        column_2 = data_2[:, d].reshape(-1, 1)\n",
    "        kernel += np.minimum(column_1, column_2.T)\n",
    "\n",
    "    return kernel\n",
    "\n",
    "\n",
    "clf = SVC(C=0.1,gamma=1,kernel=HIK)\n",
    "clf.fit(train_histo, train_labels)\n",
    "test = clf.predict(test_histo)\n",
    "\n",
    "print(classification_report(test_labels,test))"
   ]
  },
  {
   "cell_type": "markdown",
   "metadata": {},
   "source": [
    "As we can see the best result is obtained using SVM as a classifier with an intersection kernel between histograms."
   ]
  }
 ],
 "metadata": {
  "interpreter": {
   "hash": "c4510ae2205fc661e79c1256e94d74e13c5222290d1a25941673cb48af3ea7c0"
  },
  "kernelspec": {
   "display_name": "Python 2",
   "language": "python",
   "name": "python3"
  },
  "language_info": {
   "codemirror_mode": {
    "name": "ipython",
    "version": 3
   },
   "file_extension": ".py",
   "mimetype": "text/x-python",
   "name": "python",
   "nbconvert_exporter": "python",
   "pygments_lexer": "ipython3",
   "version": "3.8.8"
  }
 },
 "nbformat": 4,
 "nbformat_minor": 2
}
